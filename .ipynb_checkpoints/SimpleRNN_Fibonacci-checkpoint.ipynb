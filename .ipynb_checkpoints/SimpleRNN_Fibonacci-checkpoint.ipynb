{
 "cells": [
  {
   "cell_type": "code",
   "execution_count": 1,
   "metadata": {},
   "outputs": [],
   "source": [
    "import tensorflow as tf\n",
    "import numpy as np\n",
    "import matplotlib.pyplot as plt\n",
    "from tensorflow.keras.layers import SimpleRNN, Dense\n",
    "from tensorflow.keras import Sequential"
   ]
  },
  {
   "cell_type": "code",
   "execution_count": 101,
   "metadata": {},
   "outputs": [],
   "source": [
    "a = 1\n",
    "b = 1\n",
    "seq = [1,1]"
   ]
  },
  {
   "cell_type": "code",
   "execution_count": 102,
   "metadata": {},
   "outputs": [],
   "source": [
    "for i in range(40):\n",
    "    seq.append(seq[-2]+seq[-1])"
   ]
  },
  {
   "cell_type": "code",
   "execution_count": 103,
   "metadata": {},
   "outputs": [
    {
     "name": "stdout",
     "output_type": "stream",
     "text": [
      "42\n"
     ]
    }
   ],
   "source": [
    "print(len(seq))"
   ]
  },
  {
   "cell_type": "code",
   "execution_count": 104,
   "metadata": {},
   "outputs": [],
   "source": [
    "seq = np.array(seq)"
   ]
  },
  {
   "cell_type": "code",
   "execution_count": 105,
   "metadata": {},
   "outputs": [
    {
     "data": {
      "text/plain": [
       "(42,)"
      ]
     },
     "execution_count": 105,
     "metadata": {},
     "output_type": "execute_result"
    }
   ],
   "source": [
    "seq.shape"
   ]
  },
  {
   "cell_type": "code",
   "execution_count": 106,
   "metadata": {},
   "outputs": [
    {
     "name": "stdout",
     "output_type": "stream",
     "text": [
      "(42, 1)\n"
     ]
    }
   ],
   "source": [
    "seq = seq.reshape(-1,1)\n",
    "print(seq.shape)"
   ]
  },
  {
   "cell_type": "code",
   "execution_count": 107,
   "metadata": {},
   "outputs": [
    {
     "data": {
      "image/png": "[encoded data removed]",
      "text/plain": [
       "<Figure size 432x288 with 1 Axes>"
      ]
     },
     "metadata": {
      "needs_background": "light"
     },
     "output_type": "display_data"
    }
   ],
   "source": [
    "plt.grid()\n",
    "plt.title('data')\n",
    "plt.plot(seq[:1000])\n",
    "plt.show()"
   ]
  },
  {
   "cell_type": "code",
   "execution_count": 108,
   "metadata": {},
   "outputs": [],
   "source": [
    "def make_train_from_seq(seq,window,hori):\n",
    "    X = []\n",
    "    Y = []\n",
    "    \n",
    "    for i in range(seq.shape[0] - window - hori + 1):\n",
    "        X.append(seq[i:i+window])\n",
    "        Y.append(seq[i+window+hori-1])\n",
    "        \n",
    "    return np.array(X), np.array(Y)"
   ]
  },
  {
   "cell_type": "code",
   "execution_count": 109,
   "metadata": {
    "scrolled": true
   },
   "outputs": [
    {
     "name": "stdout",
     "output_type": "stream",
     "text": [
      "(22, 20, 1) (22, 1)\n"
     ]
    }
   ],
   "source": [
    "w = 20\n",
    "h = 1\n",
    "X, Y = make_train_from_seq(seq, w,h)\n",
    "print(X.shape, Y.shape)"
   ]
  },
  {
   "cell_type": "code",
   "execution_count": 110,
   "metadata": {},
   "outputs": [],
   "source": [
    "from sklearn.model_selection import train_test_split"
   ]
  },
  {
   "cell_type": "code",
   "execution_count": 111,
   "metadata": {},
   "outputs": [],
   "source": [
    "x_train, x_test, y_train, y_test = train_test_split(X,Y,train_size=0.8, random_state=1234)"
   ]
  },
  {
   "cell_type": "code",
   "execution_count": 112,
   "metadata": {},
   "outputs": [
    {
     "name": "stdout",
     "output_type": "stream",
     "text": [
      "(17, 20, 1) (17, 1) (5, 20, 1) (5, 1)\n"
     ]
    }
   ],
   "source": [
    "print(x_train.shape, y_train.shape, x_test.shape,y_test.shape)"
   ]
  },
  {
   "cell_type": "markdown",
   "metadata": {},
   "source": [
    "# RNN 모델 생성"
   ]
  },
  {
   "cell_type": "code",
   "execution_count": 113,
   "metadata": {},
   "outputs": [],
   "source": [
    "model = Sequential()"
   ]
  },
  {
   "cell_type": "code",
   "execution_count": 114,
   "metadata": {},
   "outputs": [],
   "source": [
    "model.add(SimpleRNN(units=128, activation='tanh', input_shape=x_train[0].shape))\n",
    "model.add(Dense(1))\n"
   ]
  },
  {
   "cell_type": "code",
   "execution_count": 115,
   "metadata": {},
   "outputs": [
    {
     "name": "stdout",
     "output_type": "stream",
     "text": [
      "Model: \"sequential_4\"\n",
      "_________________________________________________________________\n",
      "Layer (type)                 Output Shape              Param #   \n",
      "=================================================================\n",
      "simple_rnn_4 (SimpleRNN)     (None, 128)               16640     \n",
      "_________________________________________________________________\n",
      "dense_4 (Dense)              (None, 1)                 129       \n",
      "=================================================================\n",
      "Total params: 16,769\n",
      "Trainable params: 16,769\n",
      "Non-trainable params: 0\n",
      "_________________________________________________________________\n"
     ]
    }
   ],
   "source": [
    "model.summary()"
   ]
  },
  {
   "cell_type": "code",
   "execution_count": 116,
   "metadata": {},
   "outputs": [
    {
     "name": "stdout",
     "output_type": "stream",
     "text": [
      "Epoch 1/100\n",
      "1/1 [==============================] - 1s 963ms/step - loss: 6829807601975296.0000 - mae: 40898680.0000 - val_loss: 6525439442944.0000 - val_mae: 1222685.7500\n",
      "Epoch 2/100\n",
      "1/1 [==============================] - 0s 34ms/step - loss: 6829808675717120.0000 - mae: 40898680.0000 - val_loss: 6525439442944.0000 - val_mae: 1222685.7500\n",
      "Epoch 3/100\n",
      "1/1 [==============================] - 0s 37ms/step - loss: 6829808138846208.0000 - mae: 40898684.0000 - val_loss: 6525439442944.0000 - val_mae: 1222685.7500\n",
      "Epoch 4/100\n",
      "1/1 [==============================] - 0s 42ms/step - loss: 6829807601975296.0000 - mae: 40898684.0000 - val_loss: 6525438394368.0000 - val_mae: 1222685.2500\n",
      "Epoch 5/100\n",
      "1/1 [==============================] - 0s 42ms/step - loss: 6829808138846208.0000 - mae: 40898680.0000 - val_loss: 6525438394368.0000 - val_mae: 1222685.2500\n",
      "Epoch 6/100\n",
      "1/1 [==============================] - 0s 42ms/step - loss: 6829807601975296.0000 - mae: 40898680.0000 - val_loss: 6525438394368.0000 - val_mae: 1222685.2500\n",
      "Epoch 7/100\n",
      "1/1 [==============================] - 0s 43ms/step - loss: 6829808138846208.0000 - mae: 40898680.0000 - val_loss: 6525438394368.0000 - val_mae: 1222685.2500\n",
      "Epoch 8/100\n",
      "1/1 [==============================] - 0s 39ms/step - loss: 6829807601975296.0000 - mae: 40898680.0000 - val_loss: 6525437345792.0000 - val_mae: 1222684.7500\n",
      "Epoch 9/100\n",
      "1/1 [==============================] - 0s 43ms/step - loss: 6829807601975296.0000 - mae: 40898680.0000 - val_loss: 6525437345792.0000 - val_mae: 1222684.7500\n",
      "Epoch 10/100\n",
      "1/1 [==============================] - 0s 40ms/step - loss: 6829808138846208.0000 - mae: 40898676.0000 - val_loss: 6525437345792.0000 - val_mae: 1222684.7500\n",
      "Epoch 11/100\n",
      "1/1 [==============================] - 0s 47ms/step - loss: 6829807601975296.0000 - mae: 40898680.0000 - val_loss: 6525437345792.0000 - val_mae: 1222684.7500\n",
      "Epoch 12/100\n",
      "1/1 [==============================] - 0s 48ms/step - loss: 6829808138846208.0000 - mae: 40898684.0000 - val_loss: 6525436297216.0000 - val_mae: 1222684.2500\n",
      "Epoch 13/100\n",
      "1/1 [==============================] - 0s 44ms/step - loss: 6829808138846208.0000 - mae: 40898676.0000 - val_loss: 6525436297216.0000 - val_mae: 1222684.2500\n",
      "Epoch 14/100\n",
      "1/1 [==============================] - 0s 43ms/step - loss: 6829807601975296.0000 - mae: 40898680.0000 - val_loss: 6525436297216.0000 - val_mae: 1222684.2500\n",
      "Epoch 15/100\n",
      "1/1 [==============================] - 0s 40ms/step - loss: 6829808138846208.0000 - mae: 40898680.0000 - val_loss: 6525434724352.0000 - val_mae: 1222683.7500\n",
      "Epoch 16/100\n",
      "1/1 [==============================] - 0s 48ms/step - loss: 6829808138846208.0000 - mae: 40898680.0000 - val_loss: 6525434724352.0000 - val_mae: 1222683.7500\n",
      "Epoch 17/100\n",
      "1/1 [==============================] - 0s 49ms/step - loss: 6829808138846208.0000 - mae: 40898684.0000 - val_loss: 6525434200064.0000 - val_mae: 1222683.7500\n",
      "Epoch 18/100\n",
      "1/1 [==============================] - 0s 52ms/step - loss: 6829808138846208.0000 - mae: 40898680.0000 - val_loss: 6525434200064.0000 - val_mae: 1222683.7500\n",
      "Epoch 19/100\n",
      "1/1 [==============================] - 0s 48ms/step - loss: 6829808138846208.0000 - mae: 40898680.0000 - val_loss: 6525433675776.0000 - val_mae: 1222683.2500\n",
      "Epoch 20/100\n",
      "1/1 [==============================] - 0s 46ms/step - loss: 6829807601975296.0000 - mae: 40898676.0000 - val_loss: 6525433151488.0000 - val_mae: 1222683.2500\n",
      "Epoch 21/100\n",
      "1/1 [==============================] - 0s 46ms/step - loss: 6829808138846208.0000 - mae: 40898680.0000 - val_loss: 6525433151488.0000 - val_mae: 1222683.2500\n",
      "Epoch 22/100\n",
      "1/1 [==============================] - 0s 49ms/step - loss: 6829808138846208.0000 - mae: 40898676.0000 - val_loss: 6525433151488.0000 - val_mae: 1222683.2500\n",
      "Epoch 23/100\n",
      "1/1 [==============================] - 0s 56ms/step - loss: 6829807601975296.0000 - mae: 40898676.0000 - val_loss: 6525432102912.0000 - val_mae: 1222682.7500\n",
      "Epoch 24/100\n",
      "1/1 [==============================] - 0s 54ms/step - loss: 6829808138846208.0000 - mae: 40898680.0000 - val_loss: 6525432102912.0000 - val_mae: 1222682.7500\n",
      "Epoch 25/100\n",
      "1/1 [==============================] - 0s 51ms/step - loss: 6829807601975296.0000 - mae: 40898680.0000 - val_loss: 6525432102912.0000 - val_mae: 1222682.7500\n",
      "Epoch 26/100\n",
      "1/1 [==============================] - 0s 49ms/step - loss: 6829808138846208.0000 - mae: 40898676.0000 - val_loss: 6525432102912.0000 - val_mae: 1222682.7500\n",
      "Epoch 27/100\n",
      "1/1 [==============================] - 0s 46ms/step - loss: 6829808138846208.0000 - mae: 40898676.0000 - val_loss: 6525430530048.0000 - val_mae: 1222682.2500\n",
      "Epoch 28/100\n",
      "1/1 [==============================] - 0s 45ms/step - loss: 6829807601975296.0000 - mae: 40898680.0000 - val_loss: 6525430005760.0000 - val_mae: 1222682.2500\n",
      "Epoch 29/100\n",
      "1/1 [==============================] - 0s 145ms/step - loss: 6829807601975296.0000 - mae: 40898680.0000 - val_loss: 6525430005760.0000 - val_mae: 1222682.2500\n",
      "Epoch 30/100\n",
      "1/1 [==============================] - 0s 48ms/step - loss: 6829807065104384.0000 - mae: 40898676.0000 - val_loss: 6525430005760.0000 - val_mae: 1222682.2500\n",
      "Epoch 31/100\n",
      "1/1 [==============================] - 0s 53ms/step - loss: 6829807601975296.0000 - mae: 40898676.0000 - val_loss: 6525429481472.0000 - val_mae: 1222681.7500\n",
      "Epoch 32/100\n",
      "1/1 [==============================] - 0s 45ms/step - loss: 6829807065104384.0000 - mae: 40898676.0000 - val_loss: 6525429481472.0000 - val_mae: 1222681.7500\n",
      "Epoch 33/100\n",
      "1/1 [==============================] - 0s 48ms/step - loss: 6829807601975296.0000 - mae: 40898680.0000 - val_loss: 6525429481472.0000 - val_mae: 1222681.7500\n",
      "Epoch 34/100\n",
      "1/1 [==============================] - 0s 53ms/step - loss: 6829808138846208.0000 - mae: 40898676.0000 - val_loss: 6525429481472.0000 - val_mae: 1222681.7500\n",
      "Epoch 35/100\n",
      "1/1 [==============================] - 0s 49ms/step - loss: 6829807601975296.0000 - mae: 40898672.0000 - val_loss: 6525427908608.0000 - val_mae: 1222681.2500\n",
      "Epoch 36/100\n",
      "1/1 [==============================] - 0s 41ms/step - loss: 6829808138846208.0000 - mae: 40898676.0000 - val_loss: 6525427908608.0000 - val_mae: 1222681.2500\n",
      "Epoch 37/100\n",
      "1/1 [==============================] - 0s 47ms/step - loss: 6829808138846208.0000 - mae: 40898676.0000 - val_loss: 6525427908608.0000 - val_mae: 1222681.2500\n",
      "Epoch 38/100\n",
      "1/1 [==============================] - 0s 53ms/step - loss: 6829808138846208.0000 - mae: 40898676.0000 - val_loss: 6525427908608.0000 - val_mae: 1222681.2500\n",
      "Epoch 39/100\n",
      "1/1 [==============================] - 0s 42ms/step - loss: 6829808675717120.0000 - mae: 40898676.0000 - val_loss: 6525426860032.0000 - val_mae: 1222680.7500\n",
      "Epoch 40/100\n",
      "1/1 [==============================] - 0s 44ms/step - loss: 6829808138846208.0000 - mae: 40898676.0000 - val_loss: 6525426860032.0000 - val_mae: 1222680.7500\n",
      "Epoch 41/100\n",
      "1/1 [==============================] - 0s 40ms/step - loss: 6829808138846208.0000 - mae: 40898676.0000 - val_loss: 6525426860032.0000 - val_mae: 1222680.7500\n",
      "Epoch 42/100\n",
      "1/1 [==============================] - 0s 38ms/step - loss: 6829807601975296.0000 - mae: 40898676.0000 - val_loss: 6525426335744.0000 - val_mae: 1222680.7500\n",
      "Epoch 43/100\n",
      "1/1 [==============================] - 0s 32ms/step - loss: 6829807601975296.0000 - mae: 40898676.0000 - val_loss: 6525425287168.0000 - val_mae: 1222680.2500\n",
      "Epoch 44/100\n",
      "1/1 [==============================] - 0s 31ms/step - loss: 6829807601975296.0000 - mae: 40898676.0000 - val_loss: 6525425287168.0000 - val_mae: 1222680.2500\n",
      "Epoch 45/100\n",
      "1/1 [==============================] - 0s 32ms/step - loss: 6829807601975296.0000 - mae: 40898676.0000 - val_loss: 6525425287168.0000 - val_mae: 1222680.2500\n",
      "Epoch 46/100\n",
      "1/1 [==============================] - 0s 32ms/step - loss: 6829807601975296.0000 - mae: 40898676.0000 - val_loss: 6525424238592.0000 - val_mae: 1222679.7500\n",
      "Epoch 47/100\n",
      "1/1 [==============================] - 0s 31ms/step - loss: 6829807601975296.0000 - mae: 40898676.0000 - val_loss: 6525424238592.0000 - val_mae: 1222679.7500\n",
      "Epoch 48/100\n",
      "1/1 [==============================] - 0s 31ms/step - loss: 6829808138846208.0000 - mae: 40898676.0000 - val_loss: 6525424238592.0000 - val_mae: 1222679.7500\n"
     ]
    },
    {
     "name": "stdout",
     "output_type": "stream",
     "text": [
      "Epoch 49/100\n",
      "1/1 [==============================] - 0s 37ms/step - loss: 6829807601975296.0000 - mae: 40898676.0000 - val_loss: 6525424238592.0000 - val_mae: 1222679.7500\n",
      "Epoch 50/100\n",
      "1/1 [==============================] - 0s 33ms/step - loss: 6829807601975296.0000 - mae: 40898676.0000 - val_loss: 6525423190016.0000 - val_mae: 1222679.2500\n",
      "Epoch 51/100\n",
      "1/1 [==============================] - 0s 32ms/step - loss: 6829808138846208.0000 - mae: 40898676.0000 - val_loss: 6525423190016.0000 - val_mae: 1222679.2500\n",
      "Epoch 52/100\n",
      "1/1 [==============================] - 0s 33ms/step - loss: 6829808138846208.0000 - mae: 40898676.0000 - val_loss: 6525423190016.0000 - val_mae: 1222679.2500\n",
      "Epoch 53/100\n",
      "1/1 [==============================] - 0s 33ms/step - loss: 6829807601975296.0000 - mae: 40898676.0000 - val_loss: 6525423190016.0000 - val_mae: 1222679.2500\n",
      "Epoch 54/100\n",
      "1/1 [==============================] - 0s 34ms/step - loss: 6829807601975296.0000 - mae: 40898676.0000 - val_loss: 6525421617152.0000 - val_mae: 1222678.7500\n",
      "Epoch 55/100\n",
      "1/1 [==============================] - 0s 34ms/step - loss: 6829807601975296.0000 - mae: 40898672.0000 - val_loss: 6525421617152.0000 - val_mae: 1222678.7500\n",
      "Epoch 56/100\n",
      "1/1 [==============================] - 0s 35ms/step - loss: 6829807601975296.0000 - mae: 40898676.0000 - val_loss: 6525421617152.0000 - val_mae: 1222678.7500\n",
      "Epoch 57/100\n",
      "1/1 [==============================] - 0s 39ms/step - loss: 6829807065104384.0000 - mae: 40898672.0000 - val_loss: 6525421617152.0000 - val_mae: 1222678.7500\n",
      "Epoch 58/100\n",
      "1/1 [==============================] - 0s 40ms/step - loss: 6829807601975296.0000 - mae: 40898672.0000 - val_loss: 6525421092864.0000 - val_mae: 1222678.2500\n",
      "Epoch 59/100\n",
      "1/1 [==============================] - 0s 39ms/step - loss: 6829806528233472.0000 - mae: 40898672.0000 - val_loss: 6525421092864.0000 - val_mae: 1222678.2500\n",
      "Epoch 60/100\n",
      "1/1 [==============================] - 0s 34ms/step - loss: 6829806528233472.0000 - mae: 40898668.0000 - val_loss: 6525421092864.0000 - val_mae: 1222678.2500\n",
      "Epoch 61/100\n",
      "1/1 [==============================] - 0s 34ms/step - loss: 6829807065104384.0000 - mae: 40898672.0000 - val_loss: 6525421092864.0000 - val_mae: 1222678.2500\n",
      "Epoch 62/100\n",
      "1/1 [==============================] - 0s 34ms/step - loss: 6829807601975296.0000 - mae: 40898668.0000 - val_loss: 6525419520000.0000 - val_mae: 1222677.7500\n",
      "Epoch 63/100\n",
      "1/1 [==============================] - 0s 35ms/step - loss: 6829806528233472.0000 - mae: 40898672.0000 - val_loss: 6525419520000.0000 - val_mae: 1222677.7500\n",
      "Epoch 64/100\n",
      "1/1 [==============================] - 0s 32ms/step - loss: 6829807065104384.0000 - mae: 40898676.0000 - val_loss: 6525419520000.0000 - val_mae: 1222677.7500\n",
      "Epoch 65/100\n",
      "1/1 [==============================] - 0s 31ms/step - loss: 6829807065104384.0000 - mae: 40898668.0000 - val_loss: 6525419520000.0000 - val_mae: 1222677.7500\n",
      "Epoch 66/100\n",
      "1/1 [==============================] - 0s 31ms/step - loss: 6829807601975296.0000 - mae: 40898668.0000 - val_loss: 6525418471424.0000 - val_mae: 1222677.2500\n",
      "Epoch 67/100\n",
      "1/1 [==============================] - 0s 31ms/step - loss: 6829807065104384.0000 - mae: 40898672.0000 - val_loss: 6525418471424.0000 - val_mae: 1222677.2500\n",
      "Epoch 68/100\n",
      "1/1 [==============================] - 0s 119ms/step - loss: 6829807065104384.0000 - mae: 40898676.0000 - val_loss: 6525417947136.0000 - val_mae: 1222677.2500\n",
      "Epoch 69/100\n",
      "1/1 [==============================] - 0s 38ms/step - loss: 6829807065104384.0000 - mae: 40898672.0000 - val_loss: 6525417947136.0000 - val_mae: 1222677.2500\n",
      "Epoch 70/100\n",
      "1/1 [==============================] - 0s 34ms/step - loss: 6829806528233472.0000 - mae: 40898672.0000 - val_loss: 6525416898560.0000 - val_mae: 1222676.7500\n",
      "Epoch 71/100\n",
      "1/1 [==============================] - 0s 34ms/step - loss: 6829807065104384.0000 - mae: 40898672.0000 - val_loss: 6525416898560.0000 - val_mae: 1222676.7500\n",
      "Epoch 72/100\n",
      "1/1 [==============================] - 0s 35ms/step - loss: 6829807601975296.0000 - mae: 40898672.0000 - val_loss: 6525416898560.0000 - val_mae: 1222676.7500\n",
      "Epoch 73/100\n",
      "1/1 [==============================] - 0s 31ms/step - loss: 6829807065104384.0000 - mae: 40898672.0000 - val_loss: 6525416898560.0000 - val_mae: 1222676.7500\n",
      "Epoch 74/100\n",
      "1/1 [==============================] - 0s 32ms/step - loss: 6829807065104384.0000 - mae: 40898672.0000 - val_loss: 6525415849984.0000 - val_mae: 1222676.2500\n",
      "Epoch 75/100\n",
      "1/1 [==============================] - 0s 32ms/step - loss: 6829806528233472.0000 - mae: 40898672.0000 - val_loss: 6525415849984.0000 - val_mae: 1222676.2500\n",
      "Epoch 76/100\n",
      "1/1 [==============================] - 0s 32ms/step - loss: 6829806528233472.0000 - mae: 40898672.0000 - val_loss: 6525415849984.0000 - val_mae: 1222676.2500\n",
      "Epoch 77/100\n",
      "1/1 [==============================] - 0s 31ms/step - loss: 6829807065104384.0000 - mae: 40898668.0000 - val_loss: 6525415849984.0000 - val_mae: 1222676.0000\n",
      "Epoch 78/100\n",
      "1/1 [==============================] - 0s 32ms/step - loss: 6829807065104384.0000 - mae: 40898672.0000 - val_loss: 6525414801408.0000 - val_mae: 1222675.7500\n",
      "Epoch 79/100\n",
      "1/1 [==============================] - 0s 51ms/step - loss: 6829806528233472.0000 - mae: 40898668.0000 - val_loss: 6525414801408.0000 - val_mae: 1222675.7500\n",
      "Epoch 80/100\n",
      "1/1 [==============================] - 0s 46ms/step - loss: 6829806528233472.0000 - mae: 40898672.0000 - val_loss: 6525414801408.0000 - val_mae: 1222675.7500\n",
      "Epoch 81/100\n",
      "1/1 [==============================] - 0s 48ms/step - loss: 6829806528233472.0000 - mae: 40898668.0000 - val_loss: 6525413228544.0000 - val_mae: 1222675.2500\n",
      "Epoch 82/100\n",
      "1/1 [==============================] - 0s 46ms/step - loss: 6829806528233472.0000 - mae: 40898668.0000 - val_loss: 6525413228544.0000 - val_mae: 1222675.2500\n",
      "Epoch 83/100\n",
      "1/1 [==============================] - 0s 46ms/step - loss: 6829806528233472.0000 - mae: 40898668.0000 - val_loss: 6525413228544.0000 - val_mae: 1222675.2500\n",
      "Epoch 84/100\n",
      "1/1 [==============================] - 0s 46ms/step - loss: 6829806528233472.0000 - mae: 40898668.0000 - val_loss: 6525413228544.0000 - val_mae: 1222675.2500\n",
      "Epoch 85/100\n",
      "1/1 [==============================] - 0s 43ms/step - loss: 6829806528233472.0000 - mae: 40898668.0000 - val_loss: 6525412704256.0000 - val_mae: 1222674.7500\n",
      "Epoch 86/100\n",
      "1/1 [==============================] - 0s 48ms/step - loss: 6829806528233472.0000 - mae: 40898672.0000 - val_loss: 6525412704256.0000 - val_mae: 1222674.7500\n",
      "Epoch 87/100\n",
      "1/1 [==============================] - 0s 49ms/step - loss: 6829805991362560.0000 - mae: 40898668.0000 - val_loss: 6525412704256.0000 - val_mae: 1222674.7500\n",
      "Epoch 88/100\n",
      "1/1 [==============================] - 0s 46ms/step - loss: 6829807065104384.0000 - mae: 40898664.0000 - val_loss: 6525412704256.0000 - val_mae: 1222674.7500\n",
      "Epoch 89/100\n",
      "1/1 [==============================] - 0s 48ms/step - loss: 6829807065104384.0000 - mae: 40898664.0000 - val_loss: 6525411131392.0000 - val_mae: 1222674.2500\n",
      "Epoch 90/100\n",
      "1/1 [==============================] - 0s 46ms/step - loss: 6829807065104384.0000 - mae: 40898664.0000 - val_loss: 6525411131392.0000 - val_mae: 1222674.2500\n",
      "Epoch 91/100\n",
      "1/1 [==============================] - 0s 46ms/step - loss: 6829807065104384.0000 - mae: 40898668.0000 - val_loss: 6525411131392.0000 - val_mae: 1222674.2500\n",
      "Epoch 92/100\n",
      "1/1 [==============================] - 0s 44ms/step - loss: 6829807065104384.0000 - mae: 40898668.0000 - val_loss: 6525411131392.0000 - val_mae: 1222674.2500\n",
      "Epoch 93/100\n",
      "1/1 [==============================] - 0s 44ms/step - loss: 6829806528233472.0000 - mae: 40898668.0000 - val_loss: 6525409558528.0000 - val_mae: 1222673.7500\n",
      "Epoch 94/100\n",
      "1/1 [==============================] - 0s 45ms/step - loss: 6829806528233472.0000 - mae: 40898668.0000 - val_loss: 6525409558528.0000 - val_mae: 1222673.7500\n",
      "Epoch 95/100\n",
      "1/1 [==============================] - 0s 43ms/step - loss: 6829806528233472.0000 - mae: 40898668.0000 - val_loss: 6525409558528.0000 - val_mae: 1222673.7500\n",
      "Epoch 96/100\n",
      "1/1 [==============================] - 0s 43ms/step - loss: 6829806528233472.0000 - mae: 40898664.0000 - val_loss: 6525409558528.0000 - val_mae: 1222673.7500\n"
     ]
    },
    {
     "name": "stdout",
     "output_type": "stream",
     "text": [
      "Epoch 97/100\n",
      "1/1 [==============================] - 0s 47ms/step - loss: 6829806528233472.0000 - mae: 40898668.0000 - val_loss: 6525408509952.0000 - val_mae: 1222673.2500\n",
      "Epoch 98/100\n",
      "1/1 [==============================] - 0s 50ms/step - loss: 6829806528233472.0000 - mae: 40898668.0000 - val_loss: 6525408509952.0000 - val_mae: 1222673.2500\n",
      "Epoch 99/100\n",
      "1/1 [==============================] - 0s 49ms/step - loss: 6829806528233472.0000 - mae: 40898664.0000 - val_loss: 6525408509952.0000 - val_mae: 1222673.2500\n",
      "Epoch 100/100\n",
      "1/1 [==============================] - 0s 145ms/step - loss: 6829806528233472.0000 - mae: 40898668.0000 - val_loss: 6525408509952.0000 - val_mae: 1222673.2500\n"
     ]
    }
   ],
   "source": [
    "model.compile(loss = 'mse', optimizer='adam', metrics=['mae'])\n",
    "hist = model.fit(x_train, y_train, epochs=100, validation_data=(x_test, y_test))"
   ]
  },
  {
   "cell_type": "code",
   "execution_count": null,
   "metadata": {},
   "outputs": [],
   "source": []
  }
 ],
 "metadata": {
  "kernelspec": {
   "display_name": "Python 3",
   "language": "python",
   "name": "python3"
  },
  "language_info": {
   "codemirror_mode": {
    "name": "ipython",
    "version": 3
   },
   "file_extension": ".py",
   "mimetype": "text/x-python",
   "name": "python",
   "nbconvert_exporter": "python",
   "pygments_lexer": "ipython3",
   "version": "3.7.6"
  }
 },
 "nbformat": 4,
 "nbformat_minor": 4
}
