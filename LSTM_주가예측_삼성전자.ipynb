{
 "cells": [
  {
   "cell_type": "code",
   "execution_count": 34,
   "metadata": {},
   "outputs": [],
   "source": [
    "import tensorflow as tf\n",
    "import numpy as np\n",
    "import pandas as pd\n",
    "import matplotlib.pyplot as plt\n",
    "from tensorflow.keras.models import Sequential\n",
    "from tensorflow.keras.layers import LSTM, Dense, Dropout"
   ]
  },
  {
   "cell_type": "code",
   "execution_count": 35,
   "metadata": {},
   "outputs": [],
   "source": [
    "raw_data = pd.read_csv('005930.KS_3MA_5MA.csv')\n"
   ]
  },
  {
   "cell_type": "code",
   "execution_count": 36,
   "metadata": {},
   "outputs": [
    {
     "data": {
      "text/plain": [
       "(5395, 9)"
      ]
     },
     "execution_count": 36,
     "metadata": {},
     "output_type": "execute_result"
    }
   ],
   "source": [
    "raw_data.shape"
   ]
  },
  {
   "cell_type": "code",
   "execution_count": 37,
   "metadata": {},
   "outputs": [
    {
     "data": {
      "text/plain": [
       "pandas.core.frame.DataFrame"
      ]
     },
     "execution_count": 37,
     "metadata": {},
     "output_type": "execute_result"
    }
   ],
   "source": [
    "type(raw_data)"
   ]
  },
  {
   "cell_type": "markdown",
   "metadata": {},
   "source": [
    "# pandas.DataFrame 형식의 tail(), head() 함수"
   ]
  },
  {
   "cell_type": "code",
   "execution_count": 38,
   "metadata": {},
   "outputs": [
    {
     "data": {
      "text/html": [
       "<div>\n",
       "<style scoped>\n",
       "    .dataframe tbody tr th:only-of-type {\n",
       "        vertical-align: middle;\n",
       "    }\n",
       "\n",
       "    .dataframe tbody tr th {\n",
       "        vertical-align: top;\n",
       "    }\n",
       "\n",
       "    .dataframe thead th {\n",
       "        text-align: right;\n",
       "    }\n",
       "</style>\n",
       "<table border=\"1\" class=\"dataframe\">\n",
       "  <thead>\n",
       "    <tr style=\"text-align: right;\">\n",
       "      <th></th>\n",
       "      <th>Date</th>\n",
       "      <th>Open</th>\n",
       "      <th>High</th>\n",
       "      <th>Low</th>\n",
       "      <th>Close</th>\n",
       "      <th>Adj Close</th>\n",
       "      <th>Volume</th>\n",
       "      <th>3MA</th>\n",
       "      <th>5MA</th>\n",
       "    </tr>\n",
       "  </thead>\n",
       "  <tbody>\n",
       "    <tr>\n",
       "      <th>0</th>\n",
       "      <td>2000-01-04</td>\n",
       "      <td>6000.0</td>\n",
       "      <td>6110.0</td>\n",
       "      <td>5660.0</td>\n",
       "      <td>6110.0</td>\n",
       "      <td>4740.119629</td>\n",
       "      <td>74195000.0</td>\n",
       "      <td>NaN</td>\n",
       "      <td>NaN</td>\n",
       "    </tr>\n",
       "    <tr>\n",
       "      <th>1</th>\n",
       "      <td>2000-01-05</td>\n",
       "      <td>5800.0</td>\n",
       "      <td>6060.0</td>\n",
       "      <td>5520.0</td>\n",
       "      <td>5580.0</td>\n",
       "      <td>4328.947754</td>\n",
       "      <td>74680000.0</td>\n",
       "      <td>NaN</td>\n",
       "      <td>NaN</td>\n",
       "    </tr>\n",
       "    <tr>\n",
       "      <th>2</th>\n",
       "      <td>2000-01-06</td>\n",
       "      <td>5750.0</td>\n",
       "      <td>5780.0</td>\n",
       "      <td>5580.0</td>\n",
       "      <td>5620.0</td>\n",
       "      <td>4359.979492</td>\n",
       "      <td>54390000.0</td>\n",
       "      <td>4476.348958</td>\n",
       "      <td>NaN</td>\n",
       "    </tr>\n",
       "    <tr>\n",
       "      <th>3</th>\n",
       "      <td>2000-01-07</td>\n",
       "      <td>5560.0</td>\n",
       "      <td>5670.0</td>\n",
       "      <td>5360.0</td>\n",
       "      <td>5540.0</td>\n",
       "      <td>4297.916992</td>\n",
       "      <td>40305000.0</td>\n",
       "      <td>4328.948079</td>\n",
       "      <td>NaN</td>\n",
       "    </tr>\n",
       "    <tr>\n",
       "      <th>4</th>\n",
       "      <td>2000-01-10</td>\n",
       "      <td>5600.0</td>\n",
       "      <td>5770.0</td>\n",
       "      <td>5580.0</td>\n",
       "      <td>5770.0</td>\n",
       "      <td>4476.349121</td>\n",
       "      <td>46880000.0</td>\n",
       "      <td>4378.081868</td>\n",
       "      <td>4440.662598</td>\n",
       "    </tr>\n",
       "  </tbody>\n",
       "</table>\n",
       "</div>"
      ],
      "text/plain": [
       "         Date    Open    High     Low   Close    Adj Close      Volume  \\\n",
       "0  2000-01-04  6000.0  6110.0  5660.0  6110.0  4740.119629  74195000.0   \n",
       "1  2000-01-05  5800.0  6060.0  5520.0  5580.0  4328.947754  74680000.0   \n",
       "2  2000-01-06  5750.0  5780.0  5580.0  5620.0  4359.979492  54390000.0   \n",
       "3  2000-01-07  5560.0  5670.0  5360.0  5540.0  4297.916992  40305000.0   \n",
       "4  2000-01-10  5600.0  5770.0  5580.0  5770.0  4476.349121  46880000.0   \n",
       "\n",
       "           3MA          5MA  \n",
       "0          NaN          NaN  \n",
       "1          NaN          NaN  \n",
       "2  4476.348958          NaN  \n",
       "3  4328.948079          NaN  \n",
       "4  4378.081868  4440.662598  "
      ]
     },
     "execution_count": 38,
     "metadata": {},
     "output_type": "execute_result"
    }
   ],
   "source": [
    "raw_data.head()"
   ]
  },
  {
   "cell_type": "code",
   "execution_count": 39,
   "metadata": {},
   "outputs": [
    {
     "data": {
      "image/png": "[encoded data removed]",
      "text/plain": [
       "<Figure size 504x288 with 1 Axes>"
      ]
     },
     "metadata": {
      "needs_background": "light"
     },
     "output_type": "display_data"
    }
   ],
   "source": [
    "plt.figure(figsize=(7,4))\n",
    "\n",
    "plt.title('SAMSUNG ELEC')\n",
    "plt.ylabel('price(won)')\n",
    "plt.xlabel('period (day)')\n",
    "plt.grid()\n",
    "\n",
    "plt.plot(raw_data['Adj Close'], label='Adj Close', color='b')\n",
    "plt.legend()\n",
    "\n",
    "plt.show()"
   ]
  },
  {
   "cell_type": "markdown",
   "metadata": {},
   "source": [
    "# Data 평균,표준편차,최소,최대 등 표현해주는 describe"
   ]
  },
  {
   "cell_type": "code",
   "execution_count": 40,
   "metadata": {},
   "outputs": [
    {
     "data": {
      "text/html": [
       "<div>\n",
       "<style scoped>\n",
       "    .dataframe tbody tr th:only-of-type {\n",
       "        vertical-align: middle;\n",
       "    }\n",
       "\n",
       "    .dataframe tbody tr th {\n",
       "        vertical-align: top;\n",
       "    }\n",
       "\n",
       "    .dataframe thead th {\n",
       "        text-align: right;\n",
       "    }\n",
       "</style>\n",
       "<table border=\"1\" class=\"dataframe\">\n",
       "  <thead>\n",
       "    <tr style=\"text-align: right;\">\n",
       "      <th></th>\n",
       "      <th>Open</th>\n",
       "      <th>High</th>\n",
       "      <th>Low</th>\n",
       "      <th>Close</th>\n",
       "      <th>Adj Close</th>\n",
       "      <th>Volume</th>\n",
       "      <th>3MA</th>\n",
       "      <th>5MA</th>\n",
       "    </tr>\n",
       "  </thead>\n",
       "  <tbody>\n",
       "    <tr>\n",
       "      <th>count</th>\n",
       "      <td>5389.000000</td>\n",
       "      <td>5389.000000</td>\n",
       "      <td>5389.000000</td>\n",
       "      <td>5389.000000</td>\n",
       "      <td>5389.000000</td>\n",
       "      <td>5.389000e+03</td>\n",
       "      <td>5393.000000</td>\n",
       "      <td>5391.000000</td>\n",
       "    </tr>\n",
       "    <tr>\n",
       "      <th>mean</th>\n",
       "      <td>22801.887178</td>\n",
       "      <td>23043.991464</td>\n",
       "      <td>22559.285582</td>\n",
       "      <td>22801.909445</td>\n",
       "      <td>19920.044863</td>\n",
       "      <td>2.207838e+07</td>\n",
       "      <td>19934.224878</td>\n",
       "      <td>19925.585966</td>\n",
       "    </tr>\n",
       "    <tr>\n",
       "      <th>std</th>\n",
       "      <td>17736.201238</td>\n",
       "      <td>17906.827402</td>\n",
       "      <td>17572.109940</td>\n",
       "      <td>17733.296811</td>\n",
       "      <td>17322.636387</td>\n",
       "      <td>1.564053e+07</td>\n",
       "      <td>17313.297249</td>\n",
       "      <td>17292.697383</td>\n",
       "    </tr>\n",
       "    <tr>\n",
       "      <th>min</th>\n",
       "      <td>2540.000000</td>\n",
       "      <td>2760.000000</td>\n",
       "      <td>2420.000000</td>\n",
       "      <td>2730.000000</td>\n",
       "      <td>2117.926025</td>\n",
       "      <td>0.000000e+00</td>\n",
       "      <td>2164.473877</td>\n",
       "      <td>2179.989746</td>\n",
       "    </tr>\n",
       "    <tr>\n",
       "      <th>25%</th>\n",
       "      <td>9880.000000</td>\n",
       "      <td>9990.000000</td>\n",
       "      <td>9800.000000</td>\n",
       "      <td>9900.000000</td>\n",
       "      <td>7726.937988</td>\n",
       "      <td>1.185265e+07</td>\n",
       "      <td>7726.939453</td>\n",
       "      <td>7709.871631</td>\n",
       "    </tr>\n",
       "    <tr>\n",
       "      <th>50%</th>\n",
       "      <td>15760.000000</td>\n",
       "      <td>15940.000000</td>\n",
       "      <td>15560.000000</td>\n",
       "      <td>15800.000000</td>\n",
       "      <td>12808.596680</td>\n",
       "      <td>1.803935e+07</td>\n",
       "      <td>12802.806970</td>\n",
       "      <td>12809.314840</td>\n",
       "    </tr>\n",
       "    <tr>\n",
       "      <th>75%</th>\n",
       "      <td>29280.000000</td>\n",
       "      <td>29560.000000</td>\n",
       "      <td>29000.000000</td>\n",
       "      <td>29280.000000</td>\n",
       "      <td>24566.556640</td>\n",
       "      <td>2.771475e+07</td>\n",
       "      <td>24558.166020</td>\n",
       "      <td>24555.269140</td>\n",
       "    </tr>\n",
       "    <tr>\n",
       "      <th>max</th>\n",
       "      <td>90300.000000</td>\n",
       "      <td>96800.000000</td>\n",
       "      <td>89500.000000</td>\n",
       "      <td>91000.000000</td>\n",
       "      <td>90597.414060</td>\n",
       "      <td>1.642150e+08</td>\n",
       "      <td>90033.252600</td>\n",
       "      <td>89562.014060</td>\n",
       "    </tr>\n",
       "  </tbody>\n",
       "</table>\n",
       "</div>"
      ],
      "text/plain": [
       "               Open          High           Low         Close     Adj Close  \\\n",
       "count   5389.000000   5389.000000   5389.000000   5389.000000   5389.000000   \n",
       "mean   22801.887178  23043.991464  22559.285582  22801.909445  19920.044863   \n",
       "std    17736.201238  17906.827402  17572.109940  17733.296811  17322.636387   \n",
       "min     2540.000000   2760.000000   2420.000000   2730.000000   2117.926025   \n",
       "25%     9880.000000   9990.000000   9800.000000   9900.000000   7726.937988   \n",
       "50%    15760.000000  15940.000000  15560.000000  15800.000000  12808.596680   \n",
       "75%    29280.000000  29560.000000  29000.000000  29280.000000  24566.556640   \n",
       "max    90300.000000  96800.000000  89500.000000  91000.000000  90597.414060   \n",
       "\n",
       "             Volume           3MA           5MA  \n",
       "count  5.389000e+03   5393.000000   5391.000000  \n",
       "mean   2.207838e+07  19934.224878  19925.585966  \n",
       "std    1.564053e+07  17313.297249  17292.697383  \n",
       "min    0.000000e+00   2164.473877   2179.989746  \n",
       "25%    1.185265e+07   7726.939453   7709.871631  \n",
       "50%    1.803935e+07  12802.806970  12809.314840  \n",
       "75%    2.771475e+07  24558.166020  24555.269140  \n",
       "max    1.642150e+08  90033.252600  89562.014060  "
      ]
     },
     "execution_count": 40,
     "metadata": {},
     "output_type": "execute_result"
    }
   ],
   "source": [
    "raw_data.describe()"
   ]
  },
  {
   "cell_type": "markdown",
   "metadata": {},
   "source": [
    "#### volume( 거래량 )은 min값이 0"
   ]
  },
  {
   "cell_type": "code",
   "execution_count": 41,
   "metadata": {},
   "outputs": [
    {
     "name": "stdout",
     "output_type": "stream",
     "text": [
      "<class 'pandas.core.frame.DataFrame'>\n",
      "(5395, 9)\n"
     ]
    },
    {
     "data": {
      "text/html": [
       "<div>\n",
       "<style scoped>\n",
       "    .dataframe tbody tr th:only-of-type {\n",
       "        vertical-align: middle;\n",
       "    }\n",
       "\n",
       "    .dataframe tbody tr th {\n",
       "        vertical-align: top;\n",
       "    }\n",
       "\n",
       "    .dataframe thead th {\n",
       "        text-align: right;\n",
       "    }\n",
       "</style>\n",
       "<table border=\"1\" class=\"dataframe\">\n",
       "  <thead>\n",
       "    <tr style=\"text-align: right;\">\n",
       "      <th></th>\n",
       "      <th>Date</th>\n",
       "      <th>Open</th>\n",
       "      <th>High</th>\n",
       "      <th>Low</th>\n",
       "      <th>Close</th>\n",
       "      <th>Adj Close</th>\n",
       "      <th>Volume</th>\n",
       "      <th>3MA</th>\n",
       "      <th>5MA</th>\n",
       "    </tr>\n",
       "  </thead>\n",
       "  <tbody>\n",
       "    <tr>\n",
       "      <th>0</th>\n",
       "      <td>False</td>\n",
       "      <td>False</td>\n",
       "      <td>False</td>\n",
       "      <td>False</td>\n",
       "      <td>False</td>\n",
       "      <td>False</td>\n",
       "      <td>False</td>\n",
       "      <td>True</td>\n",
       "      <td>True</td>\n",
       "    </tr>\n",
       "    <tr>\n",
       "      <th>1</th>\n",
       "      <td>False</td>\n",
       "      <td>False</td>\n",
       "      <td>False</td>\n",
       "      <td>False</td>\n",
       "      <td>False</td>\n",
       "      <td>False</td>\n",
       "      <td>False</td>\n",
       "      <td>True</td>\n",
       "      <td>True</td>\n",
       "    </tr>\n",
       "    <tr>\n",
       "      <th>2</th>\n",
       "      <td>False</td>\n",
       "      <td>False</td>\n",
       "      <td>False</td>\n",
       "      <td>False</td>\n",
       "      <td>False</td>\n",
       "      <td>False</td>\n",
       "      <td>False</td>\n",
       "      <td>False</td>\n",
       "      <td>True</td>\n",
       "    </tr>\n",
       "    <tr>\n",
       "      <th>3</th>\n",
       "      <td>False</td>\n",
       "      <td>False</td>\n",
       "      <td>False</td>\n",
       "      <td>False</td>\n",
       "      <td>False</td>\n",
       "      <td>False</td>\n",
       "      <td>False</td>\n",
       "      <td>False</td>\n",
       "      <td>True</td>\n",
       "    </tr>\n",
       "    <tr>\n",
       "      <th>4</th>\n",
       "      <td>False</td>\n",
       "      <td>False</td>\n",
       "      <td>False</td>\n",
       "      <td>False</td>\n",
       "      <td>False</td>\n",
       "      <td>False</td>\n",
       "      <td>False</td>\n",
       "      <td>False</td>\n",
       "      <td>False</td>\n",
       "    </tr>\n",
       "    <tr>\n",
       "      <th>...</th>\n",
       "      <td>...</td>\n",
       "      <td>...</td>\n",
       "      <td>...</td>\n",
       "      <td>...</td>\n",
       "      <td>...</td>\n",
       "      <td>...</td>\n",
       "      <td>...</td>\n",
       "      <td>...</td>\n",
       "      <td>...</td>\n",
       "    </tr>\n",
       "    <tr>\n",
       "      <th>5390</th>\n",
       "      <td>False</td>\n",
       "      <td>False</td>\n",
       "      <td>False</td>\n",
       "      <td>False</td>\n",
       "      <td>False</td>\n",
       "      <td>False</td>\n",
       "      <td>False</td>\n",
       "      <td>False</td>\n",
       "      <td>False</td>\n",
       "    </tr>\n",
       "    <tr>\n",
       "      <th>5391</th>\n",
       "      <td>False</td>\n",
       "      <td>False</td>\n",
       "      <td>False</td>\n",
       "      <td>False</td>\n",
       "      <td>False</td>\n",
       "      <td>False</td>\n",
       "      <td>False</td>\n",
       "      <td>False</td>\n",
       "      <td>False</td>\n",
       "    </tr>\n",
       "    <tr>\n",
       "      <th>5392</th>\n",
       "      <td>False</td>\n",
       "      <td>False</td>\n",
       "      <td>False</td>\n",
       "      <td>False</td>\n",
       "      <td>False</td>\n",
       "      <td>False</td>\n",
       "      <td>False</td>\n",
       "      <td>False</td>\n",
       "      <td>False</td>\n",
       "    </tr>\n",
       "    <tr>\n",
       "      <th>5393</th>\n",
       "      <td>False</td>\n",
       "      <td>False</td>\n",
       "      <td>False</td>\n",
       "      <td>False</td>\n",
       "      <td>False</td>\n",
       "      <td>False</td>\n",
       "      <td>False</td>\n",
       "      <td>False</td>\n",
       "      <td>False</td>\n",
       "    </tr>\n",
       "    <tr>\n",
       "      <th>5394</th>\n",
       "      <td>False</td>\n",
       "      <td>False</td>\n",
       "      <td>False</td>\n",
       "      <td>False</td>\n",
       "      <td>False</td>\n",
       "      <td>False</td>\n",
       "      <td>False</td>\n",
       "      <td>False</td>\n",
       "      <td>False</td>\n",
       "    </tr>\n",
       "  </tbody>\n",
       "</table>\n",
       "<p>5395 rows × 9 columns</p>\n",
       "</div>"
      ],
      "text/plain": [
       "       Date   Open   High    Low  Close  Adj Close  Volume    3MA    5MA\n",
       "0     False  False  False  False  False      False   False   True   True\n",
       "1     False  False  False  False  False      False   False   True   True\n",
       "2     False  False  False  False  False      False   False  False   True\n",
       "3     False  False  False  False  False      False   False  False   True\n",
       "4     False  False  False  False  False      False   False  False  False\n",
       "...     ...    ...    ...    ...    ...        ...     ...    ...    ...\n",
       "5390  False  False  False  False  False      False   False  False  False\n",
       "5391  False  False  False  False  False      False   False  False  False\n",
       "5392  False  False  False  False  False      False   False  False  False\n",
       "5393  False  False  False  False  False      False   False  False  False\n",
       "5394  False  False  False  False  False      False   False  False  False\n",
       "\n",
       "[5395 rows x 9 columns]"
      ]
     },
     "execution_count": 41,
     "metadata": {},
     "output_type": "execute_result"
    }
   ],
   "source": [
    "print(type(raw_data.isnull()))\n",
    "print(raw_data.isnull().shape)\n",
    "raw_data.isnull()"
   ]
  },
  {
   "cell_type": "code",
   "execution_count": 15,
   "metadata": {},
   "outputs": [
    {
     "data": {
      "text/plain": [
       "Date         0\n",
       "Open         6\n",
       "High         6\n",
       "Low          6\n",
       "Close        6\n",
       "Adj Close    6\n",
       "Volume       6\n",
       "3MA          2\n",
       "5MA          4\n",
       "dtype: int64"
      ]
     },
     "execution_count": 15,
     "metadata": {},
     "output_type": "execute_result"
    }
   ],
   "source": [
    "raw_data.isnull().sum()"
   ]
  },
  {
   "cell_type": "code",
   "execution_count": 21,
   "metadata": {},
   "outputs": [
    {
     "data": {
      "text/plain": [
       "0       False\n",
       "1       False\n",
       "2       False\n",
       "3       False\n",
       "4       False\n",
       "        ...  \n",
       "5390    False\n",
       "5391    False\n",
       "5392    False\n",
       "5393    False\n",
       "5394    False\n",
       "Name: Open, Length: 5395, dtype: bool"
      ]
     },
     "execution_count": 21,
     "metadata": {},
     "output_type": "execute_result"
    }
   ],
   "source": [
    "raw_data['Open'].isna()"
   ]
  },
  {
   "cell_type": "code",
   "execution_count": 43,
   "metadata": {},
   "outputs": [
    {
     "data": {
      "text/html": [
       "<div>\n",
       "<style scoped>\n",
       "    .dataframe tbody tr th:only-of-type {\n",
       "        vertical-align: middle;\n",
       "    }\n",
       "\n",
       "    .dataframe tbody tr th {\n",
       "        vertical-align: top;\n",
       "    }\n",
       "\n",
       "    .dataframe thead th {\n",
       "        text-align: right;\n",
       "    }\n",
       "</style>\n",
       "<table border=\"1\" class=\"dataframe\">\n",
       "  <thead>\n",
       "    <tr style=\"text-align: right;\">\n",
       "      <th></th>\n",
       "      <th>Date</th>\n",
       "      <th>Open</th>\n",
       "      <th>High</th>\n",
       "      <th>Low</th>\n",
       "      <th>Close</th>\n",
       "      <th>Adj Close</th>\n",
       "      <th>Volume</th>\n",
       "      <th>3MA</th>\n",
       "      <th>5MA</th>\n",
       "    </tr>\n",
       "  </thead>\n",
       "  <tbody>\n",
       "    <tr>\n",
       "      <th>0</th>\n",
       "      <td>NaN</td>\n",
       "      <td>NaN</td>\n",
       "      <td>NaN</td>\n",
       "      <td>NaN</td>\n",
       "      <td>NaN</td>\n",
       "      <td>NaN</td>\n",
       "      <td>NaN</td>\n",
       "      <td>NaN</td>\n",
       "      <td>NaN</td>\n",
       "    </tr>\n",
       "    <tr>\n",
       "      <th>1</th>\n",
       "      <td>NaN</td>\n",
       "      <td>NaN</td>\n",
       "      <td>NaN</td>\n",
       "      <td>NaN</td>\n",
       "      <td>NaN</td>\n",
       "      <td>NaN</td>\n",
       "      <td>NaN</td>\n",
       "      <td>NaN</td>\n",
       "      <td>NaN</td>\n",
       "    </tr>\n",
       "    <tr>\n",
       "      <th>2</th>\n",
       "      <td>NaN</td>\n",
       "      <td>NaN</td>\n",
       "      <td>NaN</td>\n",
       "      <td>NaN</td>\n",
       "      <td>NaN</td>\n",
       "      <td>NaN</td>\n",
       "      <td>NaN</td>\n",
       "      <td>NaN</td>\n",
       "      <td>NaN</td>\n",
       "    </tr>\n",
       "    <tr>\n",
       "      <th>3</th>\n",
       "      <td>NaN</td>\n",
       "      <td>NaN</td>\n",
       "      <td>NaN</td>\n",
       "      <td>NaN</td>\n",
       "      <td>NaN</td>\n",
       "      <td>NaN</td>\n",
       "      <td>NaN</td>\n",
       "      <td>NaN</td>\n",
       "      <td>NaN</td>\n",
       "    </tr>\n",
       "    <tr>\n",
       "      <th>4</th>\n",
       "      <td>NaN</td>\n",
       "      <td>NaN</td>\n",
       "      <td>NaN</td>\n",
       "      <td>NaN</td>\n",
       "      <td>NaN</td>\n",
       "      <td>NaN</td>\n",
       "      <td>NaN</td>\n",
       "      <td>NaN</td>\n",
       "      <td>NaN</td>\n",
       "    </tr>\n",
       "    <tr>\n",
       "      <th>...</th>\n",
       "      <td>...</td>\n",
       "      <td>...</td>\n",
       "      <td>...</td>\n",
       "      <td>...</td>\n",
       "      <td>...</td>\n",
       "      <td>...</td>\n",
       "      <td>...</td>\n",
       "      <td>...</td>\n",
       "      <td>...</td>\n",
       "    </tr>\n",
       "    <tr>\n",
       "      <th>5390</th>\n",
       "      <td>NaN</td>\n",
       "      <td>NaN</td>\n",
       "      <td>NaN</td>\n",
       "      <td>NaN</td>\n",
       "      <td>NaN</td>\n",
       "      <td>NaN</td>\n",
       "      <td>NaN</td>\n",
       "      <td>NaN</td>\n",
       "      <td>NaN</td>\n",
       "    </tr>\n",
       "    <tr>\n",
       "      <th>5391</th>\n",
       "      <td>NaN</td>\n",
       "      <td>NaN</td>\n",
       "      <td>NaN</td>\n",
       "      <td>NaN</td>\n",
       "      <td>NaN</td>\n",
       "      <td>NaN</td>\n",
       "      <td>NaN</td>\n",
       "      <td>NaN</td>\n",
       "      <td>NaN</td>\n",
       "    </tr>\n",
       "    <tr>\n",
       "      <th>5392</th>\n",
       "      <td>NaN</td>\n",
       "      <td>NaN</td>\n",
       "      <td>NaN</td>\n",
       "      <td>NaN</td>\n",
       "      <td>NaN</td>\n",
       "      <td>NaN</td>\n",
       "      <td>NaN</td>\n",
       "      <td>NaN</td>\n",
       "      <td>NaN</td>\n",
       "    </tr>\n",
       "    <tr>\n",
       "      <th>5393</th>\n",
       "      <td>NaN</td>\n",
       "      <td>NaN</td>\n",
       "      <td>NaN</td>\n",
       "      <td>NaN</td>\n",
       "      <td>NaN</td>\n",
       "      <td>NaN</td>\n",
       "      <td>NaN</td>\n",
       "      <td>NaN</td>\n",
       "      <td>NaN</td>\n",
       "    </tr>\n",
       "    <tr>\n",
       "      <th>5394</th>\n",
       "      <td>NaN</td>\n",
       "      <td>NaN</td>\n",
       "      <td>NaN</td>\n",
       "      <td>NaN</td>\n",
       "      <td>NaN</td>\n",
       "      <td>NaN</td>\n",
       "      <td>NaN</td>\n",
       "      <td>NaN</td>\n",
       "      <td>NaN</td>\n",
       "    </tr>\n",
       "  </tbody>\n",
       "</table>\n",
       "<p>5395 rows × 9 columns</p>\n",
       "</div>"
      ],
      "text/plain": [
       "     Date  Open  High  Low  Close  Adj Close  Volume  3MA  5MA\n",
       "0     NaN   NaN   NaN  NaN    NaN        NaN     NaN  NaN  NaN\n",
       "1     NaN   NaN   NaN  NaN    NaN        NaN     NaN  NaN  NaN\n",
       "2     NaN   NaN   NaN  NaN    NaN        NaN     NaN  NaN  NaN\n",
       "3     NaN   NaN   NaN  NaN    NaN        NaN     NaN  NaN  NaN\n",
       "4     NaN   NaN   NaN  NaN    NaN        NaN     NaN  NaN  NaN\n",
       "...   ...   ...   ...  ...    ...        ...     ...  ...  ...\n",
       "5390  NaN   NaN   NaN  NaN    NaN        NaN     NaN  NaN  NaN\n",
       "5391  NaN   NaN   NaN  NaN    NaN        NaN     NaN  NaN  NaN\n",
       "5392  NaN   NaN   NaN  NaN    NaN        NaN     NaN  NaN  NaN\n",
       "5393  NaN   NaN   NaN  NaN    NaN        NaN     NaN  NaN  NaN\n",
       "5394  NaN   NaN   NaN  NaN    NaN        NaN     NaN  NaN  NaN\n",
       "\n",
       "[5395 rows x 9 columns]"
      ]
     },
     "execution_count": 43,
     "metadata": {},
     "output_type": "execute_result"
    }
   ],
   "source": [
    "raw_data[raw_data.isna()]"
   ]
  },
  {
   "cell_type": "code",
   "execution_count": 44,
   "metadata": {},
   "outputs": [
    {
     "data": {
      "text/html": [
       "<div>\n",
       "<style scoped>\n",
       "    .dataframe tbody tr th:only-of-type {\n",
       "        vertical-align: middle;\n",
       "    }\n",
       "\n",
       "    .dataframe tbody tr th {\n",
       "        vertical-align: top;\n",
       "    }\n",
       "\n",
       "    .dataframe thead th {\n",
       "        text-align: right;\n",
       "    }\n",
       "</style>\n",
       "<table border=\"1\" class=\"dataframe\">\n",
       "  <thead>\n",
       "    <tr style=\"text-align: right;\">\n",
       "      <th></th>\n",
       "      <th>Date</th>\n",
       "      <th>Open</th>\n",
       "      <th>High</th>\n",
       "      <th>Low</th>\n",
       "      <th>Close</th>\n",
       "      <th>Adj Close</th>\n",
       "      <th>Volume</th>\n",
       "      <th>3MA</th>\n",
       "      <th>5MA</th>\n",
       "    </tr>\n",
       "  </thead>\n",
       "  <tbody>\n",
       "    <tr>\n",
       "      <th>1304</th>\n",
       "      <td>2005-01-03</td>\n",
       "      <td>NaN</td>\n",
       "      <td>NaN</td>\n",
       "      <td>NaN</td>\n",
       "      <td>NaN</td>\n",
       "      <td>NaN</td>\n",
       "      <td>NaN</td>\n",
       "      <td>6989.931152</td>\n",
       "      <td>6910.412353</td>\n",
       "    </tr>\n",
       "    <tr>\n",
       "      <th>4513</th>\n",
       "      <td>2017-11-16</td>\n",
       "      <td>NaN</td>\n",
       "      <td>NaN</td>\n",
       "      <td>NaN</td>\n",
       "      <td>NaN</td>\n",
       "      <td>NaN</td>\n",
       "      <td>NaN</td>\n",
       "      <td>49382.673830</td>\n",
       "      <td>49719.997070</td>\n",
       "    </tr>\n",
       "    <tr>\n",
       "      <th>4518</th>\n",
       "      <td>2017-11-23</td>\n",
       "      <td>NaN</td>\n",
       "      <td>NaN</td>\n",
       "      <td>NaN</td>\n",
       "      <td>NaN</td>\n",
       "      <td>NaN</td>\n",
       "      <td>NaN</td>\n",
       "      <td>49373.792970</td>\n",
       "      <td>49324.969730</td>\n",
       "    </tr>\n",
       "    <tr>\n",
       "      <th>4542</th>\n",
       "      <td>2018-01-02</td>\n",
       "      <td>NaN</td>\n",
       "      <td>NaN</td>\n",
       "      <td>NaN</td>\n",
       "      <td>NaN</td>\n",
       "      <td>NaN</td>\n",
       "      <td>NaN</td>\n",
       "      <td>44927.763670</td>\n",
       "      <td>44190.302730</td>\n",
       "    </tr>\n",
       "    <tr>\n",
       "      <th>4755</th>\n",
       "      <td>2018-11-15</td>\n",
       "      <td>NaN</td>\n",
       "      <td>NaN</td>\n",
       "      <td>NaN</td>\n",
       "      <td>NaN</td>\n",
       "      <td>NaN</td>\n",
       "      <td>NaN</td>\n",
       "      <td>40569.835940</td>\n",
       "      <td>40775.886720</td>\n",
       "    </tr>\n",
       "    <tr>\n",
       "      <th>5000</th>\n",
       "      <td>2019-11-14</td>\n",
       "      <td>NaN</td>\n",
       "      <td>NaN</td>\n",
       "      <td>NaN</td>\n",
       "      <td>NaN</td>\n",
       "      <td>NaN</td>\n",
       "      <td>NaN</td>\n",
       "      <td>49695.419920</td>\n",
       "      <td>49364.432620</td>\n",
       "    </tr>\n",
       "  </tbody>\n",
       "</table>\n",
       "</div>"
      ],
      "text/plain": [
       "            Date  Open  High  Low  Close  Adj Close  Volume           3MA  \\\n",
       "1304  2005-01-03   NaN   NaN  NaN    NaN        NaN     NaN   6989.931152   \n",
       "4513  2017-11-16   NaN   NaN  NaN    NaN        NaN     NaN  49382.673830   \n",
       "4518  2017-11-23   NaN   NaN  NaN    NaN        NaN     NaN  49373.792970   \n",
       "4542  2018-01-02   NaN   NaN  NaN    NaN        NaN     NaN  44927.763670   \n",
       "4755  2018-11-15   NaN   NaN  NaN    NaN        NaN     NaN  40569.835940   \n",
       "5000  2019-11-14   NaN   NaN  NaN    NaN        NaN     NaN  49695.419920   \n",
       "\n",
       "               5MA  \n",
       "1304   6910.412353  \n",
       "4513  49719.997070  \n",
       "4518  49324.969730  \n",
       "4542  44190.302730  \n",
       "4755  40775.886720  \n",
       "5000  49364.432620  "
      ]
     },
     "execution_count": 44,
     "metadata": {},
     "output_type": "execute_result"
    }
   ],
   "source": [
    "raw_data.loc[raw_data['Open'].isna()]"
   ]
  },
  {
   "cell_type": "code",
   "execution_count": 45,
   "metadata": {},
   "outputs": [],
   "source": [
    "raw_data['Volume'] = raw_data['Volume'].replace(0, np.nan)"
   ]
  },
  {
   "cell_type": "code",
   "execution_count": 46,
   "metadata": {},
   "outputs": [
    {
     "name": "stdout",
     "output_type": "stream",
     "text": [
      "Date\n",
      "Open\n",
      "High\n",
      "Low\n",
      "Close\n",
      "Adj Close\n",
      "Volume\n",
      "3MA\n",
      "5MA\n"
     ]
    }
   ],
   "source": [
    "for col in raw_data.columns:\n",
    "    print(col)"
   ]
  },
  {
   "cell_type": "code",
   "execution_count": 47,
   "metadata": {},
   "outputs": [
    {
     "name": "stdout",
     "output_type": "stream",
     "text": [
      "Date: 0\n",
      "Open: 0\n",
      "High: 0\n",
      "Low: 0\n",
      "Close: 0\n",
      "Adj Close: 0\n",
      "Volume: 0\n",
      "3MA: 0\n",
      "5MA: 0\n"
     ]
    }
   ],
   "source": [
    "for col in raw_data.columns:\n",
    "    missing_rows = raw_data.loc[raw_data[col]==0].shape[0]\n",
    "    print(col + ': '+str(missing_rows))"
   ]
  },
  {
   "cell_type": "code",
   "execution_count": 48,
   "metadata": {
    "scrolled": true
   },
   "outputs": [
    {
     "data": {
      "text/plain": [
       "Date           0\n",
       "Open           6\n",
       "High           6\n",
       "Low            6\n",
       "Close          6\n",
       "Adj Close      6\n",
       "Volume       122\n",
       "3MA            2\n",
       "5MA            4\n",
       "dtype: int64"
      ]
     },
     "execution_count": 48,
     "metadata": {},
     "output_type": "execute_result"
    }
   ],
   "source": [
    "raw_data.isnull().sum()"
   ]
  },
  {
   "cell_type": "code",
   "execution_count": 49,
   "metadata": {},
   "outputs": [],
   "source": [
    "raw_data = raw_data.dropna()"
   ]
  },
  {
   "cell_type": "code",
   "execution_count": 50,
   "metadata": {},
   "outputs": [
    {
     "data": {
      "text/plain": [
       "Date         0\n",
       "Open         0\n",
       "High         0\n",
       "Low          0\n",
       "Close        0\n",
       "Adj Close    0\n",
       "Volume       0\n",
       "3MA          0\n",
       "5MA          0\n",
       "dtype: int64"
      ]
     },
     "execution_count": 50,
     "metadata": {},
     "output_type": "execute_result"
    }
   ],
   "source": [
    "raw_data.isnull().sum()"
   ]
  },
  {
   "cell_type": "markdown",
   "metadata": {},
   "source": [
    "## Missing value가 있는 행들이 모두 사라짐"
   ]
  },
  {
   "cell_type": "code",
   "execution_count": 51,
   "metadata": {},
   "outputs": [
    {
     "data": {
      "text/plain": [
       "(5269, 9)"
      ]
     },
     "execution_count": 51,
     "metadata": {},
     "output_type": "execute_result"
    }
   ],
   "source": [
    "raw_data.shape"
   ]
  },
  {
   "cell_type": "markdown",
   "metadata": {},
   "source": [
    "## Normalisation"
   ]
  },
  {
   "cell_type": "code",
   "execution_count": 52,
   "metadata": {},
   "outputs": [],
   "source": [
    "from sklearn.preprocessing import MinMaxScaler"
   ]
  },
  {
   "cell_type": "code",
   "execution_count": 53,
   "metadata": {},
   "outputs": [],
   "source": [
    "scaler = MinMaxScaler()"
   ]
  },
  {
   "cell_type": "code",
   "execution_count": 54,
   "metadata": {},
   "outputs": [],
   "source": [
    "scale_cols = ['Open', 'High', 'Low', 'Close', 'Adj Close', '3MA','5MA','Volume']\n",
    "# 정규화 대상이 되는 column들 "
   ]
  },
  {
   "cell_type": "markdown",
   "metadata": {},
   "source": [
    "# Normalisation 수행"
   ]
  },
  {
   "cell_type": "code",
   "execution_count": 56,
   "metadata": {},
   "outputs": [],
   "source": [
    "scaled_data = scaler.fit_transform(raw_data[scale_cols])\n",
    "#scaler.fit_transform함수는 np.array를 뱉어주므로, describe로 확인하려면 pd.DataFrame으로 바꿔줘야함"
   ]
  },
  {
   "cell_type": "code",
   "execution_count": 58,
   "metadata": {},
   "outputs": [
    {
     "name": "stdout",
     "output_type": "stream",
     "text": [
      "<class 'numpy.ndarray'>\n"
     ]
    }
   ],
   "source": [
    "print(type(scaled_data))"
   ]
  },
  {
   "cell_type": "code",
   "execution_count": 59,
   "metadata": {},
   "outputs": [],
   "source": [
    "scaled_data = pd.DataFrame(scaled_data, columns=scale_cols)"
   ]
  },
  {
   "cell_type": "code",
   "execution_count": 60,
   "metadata": {},
   "outputs": [
    {
     "data": {
      "text/html": [
       "<div>\n",
       "<style scoped>\n",
       "    .dataframe tbody tr th:only-of-type {\n",
       "        vertical-align: middle;\n",
       "    }\n",
       "\n",
       "    .dataframe tbody tr th {\n",
       "        vertical-align: top;\n",
       "    }\n",
       "\n",
       "    .dataframe thead th {\n",
       "        text-align: right;\n",
       "    }\n",
       "</style>\n",
       "<table border=\"1\" class=\"dataframe\">\n",
       "  <thead>\n",
       "    <tr style=\"text-align: right;\">\n",
       "      <th></th>\n",
       "      <th>Open</th>\n",
       "      <th>High</th>\n",
       "      <th>Low</th>\n",
       "      <th>Close</th>\n",
       "      <th>Adj Close</th>\n",
       "      <th>3MA</th>\n",
       "      <th>5MA</th>\n",
       "      <th>Volume</th>\n",
       "    </tr>\n",
       "  </thead>\n",
       "  <tbody>\n",
       "    <tr>\n",
       "      <th>count</th>\n",
       "      <td>5269.000000</td>\n",
       "      <td>5269.000000</td>\n",
       "      <td>5269.000000</td>\n",
       "      <td>5269.000000</td>\n",
       "      <td>5269.000000</td>\n",
       "      <td>5269.000000</td>\n",
       "      <td>5269.000000</td>\n",
       "      <td>5269.000000</td>\n",
       "    </tr>\n",
       "    <tr>\n",
       "      <th>mean</th>\n",
       "      <td>0.234290</td>\n",
       "      <td>0.218937</td>\n",
       "      <td>0.234651</td>\n",
       "      <td>0.230785</td>\n",
       "      <td>0.204295</td>\n",
       "      <td>0.205020</td>\n",
       "      <td>0.205679</td>\n",
       "      <td>0.137083</td>\n",
       "    </tr>\n",
       "    <tr>\n",
       "      <th>std</th>\n",
       "      <td>0.202292</td>\n",
       "      <td>0.190594</td>\n",
       "      <td>0.201992</td>\n",
       "      <td>0.201089</td>\n",
       "      <td>0.196200</td>\n",
       "      <td>0.197319</td>\n",
       "      <td>0.198212</td>\n",
       "      <td>0.093952</td>\n",
       "    </tr>\n",
       "    <tr>\n",
       "      <th>min</th>\n",
       "      <td>0.000000</td>\n",
       "      <td>0.000000</td>\n",
       "      <td>0.000000</td>\n",
       "      <td>0.000000</td>\n",
       "      <td>0.000000</td>\n",
       "      <td>0.000000</td>\n",
       "      <td>0.000000</td>\n",
       "      <td>0.000000</td>\n",
       "    </tr>\n",
       "    <tr>\n",
       "      <th>25%</th>\n",
       "      <td>0.087056</td>\n",
       "      <td>0.080604</td>\n",
       "      <td>0.087276</td>\n",
       "      <td>0.084400</td>\n",
       "      <td>0.066493</td>\n",
       "      <td>0.066012</td>\n",
       "      <td>0.066176</td>\n",
       "      <td>0.074025</td>\n",
       "    </tr>\n",
       "    <tr>\n",
       "      <th>50%</th>\n",
       "      <td>0.155196</td>\n",
       "      <td>0.144407</td>\n",
       "      <td>0.155489</td>\n",
       "      <td>0.152147</td>\n",
       "      <td>0.124504</td>\n",
       "      <td>0.124793</td>\n",
       "      <td>0.125218</td>\n",
       "      <td>0.111201</td>\n",
       "    </tr>\n",
       "    <tr>\n",
       "      <th>75%</th>\n",
       "      <td>0.307201</td>\n",
       "      <td>0.287325</td>\n",
       "      <td>0.307533</td>\n",
       "      <td>0.303047</td>\n",
       "      <td>0.255107</td>\n",
       "      <td>0.256476</td>\n",
       "      <td>0.257657</td>\n",
       "      <td>0.169895</td>\n",
       "    </tr>\n",
       "    <tr>\n",
       "      <th>max</th>\n",
       "      <td>1.000000</td>\n",
       "      <td>1.000000</td>\n",
       "      <td>1.000000</td>\n",
       "      <td>1.000000</td>\n",
       "      <td>1.000000</td>\n",
       "      <td>1.000000</td>\n",
       "      <td>1.000000</td>\n",
       "      <td>1.000000</td>\n",
       "    </tr>\n",
       "  </tbody>\n",
       "</table>\n",
       "</div>"
      ],
      "text/plain": [
       "              Open         High          Low        Close    Adj Close  \\\n",
       "count  5269.000000  5269.000000  5269.000000  5269.000000  5269.000000   \n",
       "mean      0.234290     0.218937     0.234651     0.230785     0.204295   \n",
       "std       0.202292     0.190594     0.201992     0.201089     0.196200   \n",
       "min       0.000000     0.000000     0.000000     0.000000     0.000000   \n",
       "25%       0.087056     0.080604     0.087276     0.084400     0.066493   \n",
       "50%       0.155196     0.144407     0.155489     0.152147     0.124504   \n",
       "75%       0.307201     0.287325     0.307533     0.303047     0.255107   \n",
       "max       1.000000     1.000000     1.000000     1.000000     1.000000   \n",
       "\n",
       "               3MA          5MA       Volume  \n",
       "count  5269.000000  5269.000000  5269.000000  \n",
       "mean      0.205020     0.205679     0.137083  \n",
       "std       0.197319     0.198212     0.093952  \n",
       "min       0.000000     0.000000     0.000000  \n",
       "25%       0.066012     0.066176     0.074025  \n",
       "50%       0.124793     0.125218     0.111201  \n",
       "75%       0.256476     0.257657     0.169895  \n",
       "max       1.000000     1.000000     1.000000  "
      ]
     },
     "execution_count": 60,
     "metadata": {},
     "output_type": "execute_result"
    }
   ],
   "source": [
    "scaled_data.describe()\n",
    "# Date를 제외한 모든 col들의 min, max값이 0, 1임을 확인할 수 있다."
   ]
  },
  {
   "cell_type": "markdown",
   "metadata": {},
   "source": [
    "# 학습을 위한 Input Date : feature_cols\n",
    "# 정답 데이터 : label_cols"
   ]
  },
  {
   "cell_type": "code",
   "execution_count": 61,
   "metadata": {},
   "outputs": [],
   "source": [
    "feature_cols = ['3MA', '5MA', 'Adj Close']\n",
    "label_cols = ['Adj Close']"
   ]
  },
  {
   "cell_type": "code",
   "execution_count": 62,
   "metadata": {
    "scrolled": true
   },
   "outputs": [
    {
     "name": "stdout",
     "output_type": "stream",
     "text": [
      "           3MA       5MA  Adj Close\n",
      "0     0.025192  0.025698   0.026655\n",
      "1     0.025634  0.025094   0.026655\n",
      "2     0.026163  0.025343   0.026217\n",
      "3     0.025987  0.025503   0.026129\n",
      "4     0.026163  0.026018   0.027181\n",
      "...        ...       ...        ...\n",
      "5264  0.895299  0.903144   0.885878\n",
      "5265  0.894920  0.900854   0.890399\n",
      "5266  0.897955  0.902457   0.900571\n",
      "5267  0.899472  0.902228   0.890399\n",
      "5268  0.897955  0.901083   0.885878\n",
      "\n",
      "[5269 rows x 3 columns]\n",
      "      Adj Close\n",
      "0      0.026655\n",
      "1      0.026655\n",
      "2      0.026217\n",
      "3      0.026129\n",
      "4      0.027181\n",
      "...         ...\n",
      "5264   0.885878\n",
      "5265   0.890399\n",
      "5266   0.900571\n",
      "5267   0.890399\n",
      "5268   0.885878\n",
      "\n",
      "[5269 rows x 1 columns]\n"
     ]
    }
   ],
   "source": [
    "label_data = pd.DataFrame(scaled_data, columns=label_cols)\n",
    "feature_data = pd.DataFrame(scaled_data, columns=feature_cols)\n",
    "print(feature_data)\n",
    "print(label_data)"
   ]
  },
  {
   "cell_type": "code",
   "execution_count": 63,
   "metadata": {},
   "outputs": [],
   "source": [
    "label_np = label_data.to_numpy()\n",
    "feature_np = feature_data.to_numpy()\n",
    "# 딥러닝을 위해 pd.DataFrame에서 numpy로 변환"
   ]
  },
  {
   "cell_type": "code",
   "execution_count": 64,
   "metadata": {},
   "outputs": [],
   "source": [
    "def make_sequence_dataset(feature, label, window_size):\n",
    "    feature_list = []\n",
    "    label_list = []\n",
    "    \n",
    "    for i in range(len(feature) - window_size):\n",
    "        \n",
    "        feature_list.append(feature[i:i+window_size])\n",
    "        label_list.append(label[i+window_size])\n",
    "    return np.array(feature_list), np.array(label_list)"
   ]
  },
  {
   "cell_type": "code",
   "execution_count": 65,
   "metadata": {},
   "outputs": [
    {
     "name": "stdout",
     "output_type": "stream",
     "text": [
      "(5229, 40, 3) (5229, 1)\n"
     ]
    }
   ],
   "source": [
    "window_size = 40\n",
    "\n",
    "X, Y = make_sequence_dataset(feature_np, label_np, window_size)\n",
    "print(X.shape, Y.shape)"
   ]
  },
  {
   "cell_type": "markdown",
   "metadata": {},
   "source": [
    "# Train_data, Test_data 분리"
   ]
  },
  {
   "cell_type": "code",
   "execution_count": 66,
   "metadata": {},
   "outputs": [
    {
     "name": "stdout",
     "output_type": "stream",
     "text": [
      "(5029, 40, 3) (5029, 1)\n",
      "(200, 40, 3) (200, 1)\n"
     ]
    }
   ],
   "source": [
    "x_train = X[0:-200]\n",
    "y_train = Y[0:-200]\n",
    "\n",
    "x_test = X[-200:]\n",
    "y_test = Y[-200:]\n",
    "\n",
    "print(x_train.shape, y_train.shape)\n",
    "print(x_test.shape, y_test.shape)"
   ]
  },
  {
   "cell_type": "code",
   "execution_count": 67,
   "metadata": {},
   "outputs": [],
   "source": [
    "model = Sequential()\n"
   ]
  },
  {
   "cell_type": "code",
   "execution_count": 68,
   "metadata": {},
   "outputs": [
    {
     "name": "stdout",
     "output_type": "stream",
     "text": [
      "Model: \"sequential\"\n",
      "_________________________________________________________________\n",
      "Layer (type)                 Output Shape              Param #   \n",
      "=================================================================\n",
      "lstm (LSTM)                  (None, 128)               67584     \n",
      "_________________________________________________________________\n",
      "dense (Dense)                (None, 1)                 129       \n",
      "=================================================================\n",
      "Total params: 67,713\n",
      "Trainable params: 67,713\n",
      "Non-trainable params: 0\n",
      "_________________________________________________________________\n"
     ]
    }
   ],
   "source": [
    "model.add(LSTM(128, activation='tanh',input_shape=x_train[0].shape))\n",
    "model.add(Dense(1, activation='linear'))\n",
    "\n",
    "model.summary()"
   ]
  },
  {
   "cell_type": "code",
   "execution_count": 69,
   "metadata": {},
   "outputs": [],
   "source": [
    "from tensorflow.keras.callbacks import EarlyStopping\n",
    "# 조기 종료를 위함 ( loss값이 더이상 줄지 않을 경우  종료해버림)"
   ]
  },
  {
   "cell_type": "code",
   "execution_count": 70,
   "metadata": {},
   "outputs": [
    {
     "name": "stdout",
     "output_type": "stream",
     "text": [
      "Epoch 1/100\n",
      "315/315 [==============================] - 5s 13ms/step - loss: 0.0017 - mae: 0.0179 - val_loss: 9.9399e-04 - val_mae: 0.0216\n",
      "Epoch 2/100\n",
      "315/315 [==============================] - 3s 11ms/step - loss: 9.2266e-05 - mae: 0.0063 - val_loss: 6.1925e-04 - val_mae: 0.0170\n",
      "Epoch 3/100\n",
      "315/315 [==============================] - 3s 11ms/step - loss: 7.8501e-05 - mae: 0.0058 - val_loss: 6.1560e-04 - val_mae: 0.0172\n",
      "Epoch 4/100\n",
      "315/315 [==============================] - 3s 11ms/step - loss: 6.2641e-05 - mae: 0.0053 - val_loss: 4.7257e-04 - val_mae: 0.0152\n",
      "Epoch 5/100\n",
      "315/315 [==============================] - 3s 11ms/step - loss: 7.3572e-05 - mae: 0.0056 - val_loss: 6.0248e-04 - val_mae: 0.0184\n",
      "Epoch 6/100\n",
      "315/315 [==============================] - 3s 11ms/step - loss: 5.4898e-05 - mae: 0.0050 - val_loss: 3.9465e-04 - val_mae: 0.0140\n",
      "Epoch 7/100\n",
      "315/315 [==============================] - 3s 11ms/step - loss: 5.5608e-05 - mae: 0.0050 - val_loss: 3.2423e-04 - val_mae: 0.0126\n",
      "Epoch 8/100\n",
      "315/315 [==============================] - 3s 11ms/step - loss: 4.5914e-05 - mae: 0.0046 - val_loss: 3.2711e-04 - val_mae: 0.0145\n",
      "Epoch 9/100\n",
      "315/315 [==============================] - 3s 11ms/step - loss: 4.1068e-05 - mae: 0.0043 - val_loss: 2.8663e-04 - val_mae: 0.0117\n",
      "Epoch 10/100\n",
      "315/315 [==============================] - 3s 11ms/step - loss: 4.2437e-05 - mae: 0.0044 - val_loss: 2.5192e-04 - val_mae: 0.0110\n",
      "Epoch 11/100\n",
      "315/315 [==============================] - 4s 12ms/step - loss: 3.6507e-05 - mae: 0.0040 - val_loss: 2.6240e-04 - val_mae: 0.0114\n",
      "Epoch 12/100\n",
      "315/315 [==============================] - 3s 11ms/step - loss: 3.1334e-05 - mae: 0.0038 - val_loss: 2.0956e-04 - val_mae: 0.0102\n",
      "Epoch 13/100\n",
      "315/315 [==============================] - 3s 11ms/step - loss: 3.3433e-05 - mae: 0.0039 - val_loss: 4.2179e-04 - val_mae: 0.0161\n",
      "Epoch 14/100\n",
      "315/315 [==============================] - 4s 11ms/step - loss: 3.4553e-05 - mae: 0.0040 - val_loss: 2.3249e-04 - val_mae: 0.0119\n",
      "Epoch 15/100\n",
      "315/315 [==============================] - 3s 11ms/step - loss: 3.3598e-05 - mae: 0.0040 - val_loss: 2.9096e-04 - val_mae: 0.0141\n",
      "Epoch 16/100\n",
      "315/315 [==============================] - 3s 11ms/step - loss: 3.4347e-05 - mae: 0.0039 - val_loss: 2.5985e-04 - val_mae: 0.0117\n",
      "Epoch 17/100\n",
      "315/315 [==============================] - 3s 11ms/step - loss: 2.9404e-05 - mae: 0.0036 - val_loss: 3.2606e-04 - val_mae: 0.0137\n"
     ]
    },
    {
     "data": {
      "text/plain": [
       "<tensorflow.python.keras.callbacks.History at 0x7fc6e0262a50>"
      ]
     },
     "execution_count": 70,
     "metadata": {},
     "output_type": "execute_result"
    }
   ],
   "source": [
    "model.compile(loss='mse', optimizer='adam', metrics=['mae'])\n",
    "early_stop = EarlyStopping(monitor='val_loss', patience=5)\n",
    "model.fit(x_train, y_train, validation_data=(x_test, y_test), epochs=100, batch_size=16, callbacks=[early_stop])"
   ]
  },
  {
   "cell_type": "code",
   "execution_count": 71,
   "metadata": {},
   "outputs": [],
   "source": [
    "pred = model.predict(x_test)"
   ]
  },
  {
   "cell_type": "code",
   "execution_count": 72,
   "metadata": {},
   "outputs": [
    {
     "data": {
      "image/png": "[encoded data removed]",
      "text/plain": [
       "<Figure size 864x432 with 1 Axes>"
      ]
     },
     "metadata": {
      "needs_background": "light"
     },
     "output_type": "display_data"
    }
   ],
   "source": [
    "plt.figure(figsize=(12,6))\n",
    "plt.title('3MA + 5MA + Adj Close, window_size=40')\n",
    "plt.ylabel('adj close')\n",
    "plt.xlabel('period')\n",
    "plt.plot(y_test, label='actual', color = 'red')\n",
    "plt.plot(pred, label='prediction', color = 'green')\n",
    "plt.grid()\n",
    "plt.legend()\n",
    "\n",
    "plt.show()"
   ]
  },
  {
   "cell_type": "code",
   "execution_count": null,
   "metadata": {},
   "outputs": [],
   "source": []
  }
 ],
 "metadata": {
  "kernelspec": {
   "display_name": "Python 3",
   "language": "python",
   "name": "python3"
  },
  "language_info": {
   "codemirror_mode": {
    "name": "ipython",
    "version": 3
   },
   "file_extension": ".py",
   "mimetype": "text/x-python",
   "name": "python",
   "nbconvert_exporter": "python",
   "pygments_lexer": "ipython3",
   "version": "3.7.6"
  }
 },
 "nbformat": 4,
 "nbformat_minor": 4
}
